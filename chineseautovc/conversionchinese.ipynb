{
 "cells": [
  {
   "cell_type": "code",
   "execution_count": 3,
   "metadata": {},
   "outputs": [],
   "source": [
    "import os\n",
    "import pickle\n",
    "import torch\n",
    "import numpy as np\n",
    "import glob\n",
    "from math import ceil\n",
    "from model_vc import Generator\n",
    "from pydub import AudioSegment\n",
    "from make_spect import make_spect_fun\n",
    "\n",
    "def pad_seq(x, base=32):\n",
    "    len_out = int(base * ceil(float(x.shape[0])/base))\n",
    "    len_pad = len_out - x.shape[0]\n",
    "    assert len_pad >= 0\n",
    "    return np.pad(x, ((0,len_pad),(0,0)), 'constant'), len_pad\n",
    "\n",
    "device = 'cuda:0'\n",
    "G = Generator(28,256,512,16).eval().to(device)\n",
    "\n",
    "#load model(pre-train and train)\n",
    "g_checkpoint = torch.load('autovc-zhu.ckpt')\n",
    "#G = Generator(32,256,512,32).eval().to(device)\n",
    "#g_checkpoint = torch.load('autovc.ckpt',map_location='cuda:0')\n",
    "G.load_state_dict(g_checkpoint['model'])\n",
    "train = pickle.load(open(\"./spmel/train.pkl\",'rb'))\n",
    "trainchinese = pickle.load(open(\"./chinesespmel/chinesetrain.pkl\",'rb'))"
   ]
  },
  {
   "cell_type": "code",
   "execution_count": 4,
   "metadata": {},
   "outputs": [],
   "source": [
    "metadata_dataset = []\n",
    "spect_vc = []\n",
    "# Test dataset\n",
    "content_Hotpot1 = np.load('./chinesespmel/S0002/BAC009S0002W0122.npy') \n",
    "content_Hotpot2 =np.load('./chinesespmel/S0003/BAC009S0003W0123.npy')\n",
    "content_Lance1 = np.load('./chinesespmel/S0004/BAC009S0004W0121.npy') \n",
    "content_Lance2 = np.load('./chinesespmel/S0005/BAC009S0005W0128.npy')\n",
    "\n",
    "metadata_dataset.append([train[1][0],train[1][1],content_Hotpot1])\n",
    "metadata_dataset.append([train[3][0],train[3][1],content_Hotpot2])\n",
    "metadata_dataset.append([train[7][0],train[7][1],content_Lance2])\n",
    "metadata_dataset.append([train[4][0],train[4][1],content_Lance1])\n",
    "\n",
    "for sbmt_i in metadata_dataset:\n",
    "             \n",
    "    x_org = sbmt_i[2]\n",
    "    x_org, len_pad = pad_seq(x_org)\n",
    "\n",
    "    #sourse content(1 x * x 80)\n",
    "    uttr_org = torch.from_numpy(x_org[np.newaxis, :, :]).to(device)\n",
    "    #sourse speaker embedding(1 x 256)\n",
    "    emb_org = torch.from_numpy(sbmt_i[1][np.newaxis, :]).to(device)\n",
    "    \n",
    "    for sbmt_j in metadata_dataset:\n",
    "        \n",
    "        #target speaker embedding           \n",
    "        emb_trg = torch.from_numpy(sbmt_j[1][np.newaxis, :]).to(device)\n",
    "        \n",
    "        with torch.no_grad():\n",
    "            _, x_identic_psnt, _ = G(uttr_org, emb_org, emb_trg)\n",
    "            \n",
    "        if len_pad == 0:\n",
    "            #content with target utterance\n",
    "            uttr_trg = x_identic_psnt[0, 0, :, :].cpu().numpy()\n",
    "        else:\n",
    "            uttr_trg = x_identic_psnt[0, 0, :-len_pad, :].cpu().numpy()\n",
    "        \n",
    "        spect_vc.append( ('{}x{}'.format(sbmt_i[0], sbmt_j[0]), uttr_trg) )\n",
    "\n",
    "with open('chineseresults.pkl', 'wb') as handle:\n",
    "    pickle.dump(spect_vc, handle)    "
   ]
  }
 ],
 "metadata": {
  "kernelspec": {
   "display_name": "Python 3",
   "language": "python",
   "name": "python3"
  },
  "language_info": {
   "codemirror_mode": {
    "name": "ipython",
    "version": 3
   },
   "file_extension": ".py",
   "mimetype": "text/x-python",
   "name": "python",
   "nbconvert_exporter": "python",
   "pygments_lexer": "ipython3",
   "version": "3.12.0"
  }
 },
 "nbformat": 4,
 "nbformat_minor": 2
}

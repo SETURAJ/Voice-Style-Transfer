{
 "cells": [
  {
   "cell_type": "code",
   "execution_count": 1,
   "metadata": {},
   "outputs": [],
   "source": [
    "import os\n",
    "import pickle\n",
    "from model_bl import D_VECTOR\n",
    "from collections import OrderedDict\n",
    "import numpy as np\n",
    "import torch\n",
    "import torchaudio"
   ]
  },
  {
   "cell_type": "markdown",
   "metadata": {},
   "source": [
    "This notebook will modified on top of the original metadata file, change mel spectrum to Mandarin."
   ]
  },
  {
   "cell_type": "code",
   "execution_count": 2,
   "metadata": {},
   "outputs": [],
   "source": [
    "arr = np.load(r\"C:\\Users\\emily\\Desktop\\679\\CS679_final_project\\Mandarin_voice_transfer\\chinesespmel\\S0010\\BAC009S0010W0270.npy\")"
   ]
  },
  {
   "cell_type": "code",
   "execution_count": 3,
   "metadata": {},
   "outputs": [
    {
     "data": {
      "text/plain": [
       "94"
      ]
     },
     "execution_count": 3,
     "metadata": {},
     "output_type": "execute_result"
    }
   ],
   "source": [
    "len(arr)"
   ]
  },
  {
   "cell_type": "code",
   "execution_count": 4,
   "metadata": {},
   "outputs": [],
   "source": [
    "metadata = pickle.load(open(r'C:\\Users\\emily\\Desktop\\679\\CS679_final_project\\Mandarin_voice_transfer\\metadata.pkl', \"rb\"))"
   ]
  },
  {
   "cell_type": "code",
   "execution_count": 6,
   "metadata": {},
   "outputs": [],
   "source": [
    "# change the mel spectrum of speaker p225 to mandarin\n",
    "metadata[0][2]=arr"
   ]
  },
  {
   "cell_type": "code",
   "execution_count": 7,
   "metadata": {},
   "outputs": [],
   "source": [
    "new_file_path = r'C:\\Users\\emily\\Desktop\\679\\CS679_final_project\\Mandarin_voice_transfer\\chinese_metadata.pkl'\n",
    "\n",
    "# Open the new file in write-binary mode and save the metadata object to it\n",
    "with open(new_file_path, \"wb\") as new_file:\n",
    "    pickle.dump(metadata, new_file)"
   ]
  }
 ],
 "metadata": {
  "kernelspec": {
   "display_name": "Dino_game",
   "language": "python",
   "name": "python3"
  },
  "language_info": {
   "codemirror_mode": {
    "name": "ipython",
    "version": 3
   },
   "file_extension": ".py",
   "mimetype": "text/x-python",
   "name": "python",
   "nbconvert_exporter": "python",
   "pygments_lexer": "ipython3",
   "version": "3.10.9"
  }
 },
 "nbformat": 4,
 "nbformat_minor": 2
}

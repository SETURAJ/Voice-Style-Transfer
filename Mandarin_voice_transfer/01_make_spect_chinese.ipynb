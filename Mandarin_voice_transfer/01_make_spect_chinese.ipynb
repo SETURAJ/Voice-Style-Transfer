{
 "cells": [
  {
   "cell_type": "code",
   "execution_count": 24,
   "metadata": {},
   "outputs": [],
   "source": [
    "import os\n",
    "import numpy as np\n",
    "import soundfile as sf\n",
    "import glob\n",
    "from scipy import signal\n",
    "from scipy.signal import get_window\n",
    "from librosa.filters import mel\n",
    "from numpy.random import RandomState\n",
    "import librosa"
   ]
  },
  {
   "cell_type": "code",
   "execution_count": 26,
   "metadata": {},
   "outputs": [],
   "source": [
    "# downsampling for all wav files\n",
    "rootDir = './chinesewavs'\n",
    "\n",
    "dirName, subdirList, _ = next(os.walk(rootDir))\n",
    "\n",
    "for subdir in sorted(subdirList):\n",
    "    _,_, fileList = next(os.walk(os.path.join(dirName,subdir)))\n",
    "    for fileName in sorted(fileList):\n",
    "        filepath = os.path.join(rootDir, subdir, fileName)\n",
    "        audio, sample_rate = librosa.load(filepath, sr=16000)\n",
    "        output_file_path = filepath  \n",
    "        sf.write(output_file_path, audio, sample_rate)\n",
    "        "
   ]
  },
  {
   "cell_type": "code",
   "execution_count": 27,
   "metadata": {},
   "outputs": [],
   "source": [
    "def butter_highpass(cutoff, fs, order=5):\n",
    "    nyq = 0.5 * fs\n",
    "    normal_cutoff = cutoff / nyq\n",
    "    b, a = signal.butter(order, normal_cutoff, btype='high', analog=False)\n",
    "    return b, a\n",
    "    \n",
    "    \n",
    "def pySTFT(x, fft_length=1024, hop_length=256):\n",
    "    \n",
    "    x = np.pad(x, int(fft_length//2), mode='reflect')\n",
    "    \n",
    "    noverlap = fft_length - hop_length\n",
    "    shape = x.shape[:-1]+((x.shape[-1]-noverlap)//hop_length, fft_length)\n",
    "    strides = x.strides[:-1]+(hop_length*x.strides[-1], x.strides[-1])\n",
    "    result = np.lib.stride_tricks.as_strided(x, shape=shape,\n",
    "                                             strides=strides)\n",
    "    \n",
    "    fft_window = get_window('hann', fft_length, fftbins=True)\n",
    "    result = np.fft.rfft(fft_window * result, n=fft_length).T\n",
    "    \n",
    "    return np.abs(result)    \n",
    "    \n",
    "def make_spect_fun(file):\n",
    "    mel_basis = mel(16000, 1024, fmin=90, fmax=7600, n_mels=80).T\n",
    "    min_level = np.exp(-100 / 20 * np.log(10))\n",
    "    b, a = butter_highpass(30, 16000, order=5)\n",
    "    x, fs = sf.read(file)\n",
    "\n",
    "    # Remove drifting noise\n",
    "    y = signal.filtfilt(b, a, x)\n",
    "    # Add a little random noise for model robustness\n",
    "    wav = y * 0.96\n",
    "    # Compute spect\n",
    "    D = pySTFT(wav).T\n",
    "    # Convert to mel and normalize\n",
    "    D_mel = np.dot(D, mel_basis)\n",
    "    D_db = 20 * np.log10(np.maximum(min_level, D_mel)) - 16\n",
    "    S = np.clip((D_db + 100) / 100, 0, 1)\n",
    "    \n",
    "    # save spect\n",
    "    np.save(file[:-4],S.astype(np.float32), allow_pickle=False)\n",
    "\n",
    "    return S.astype(np.float32)"
   ]
  },
  {
   "cell_type": "code",
   "execution_count": 28,
   "metadata": {},
   "outputs": [
    {
     "name": "stdout",
     "output_type": "stream",
     "text": [
      "Found directory: ./chinesewavs\n",
      "S0010\n",
      "S0017\n",
      "S0018\n",
      "S0019\n",
      "S0038\n",
      "S0041\n"
     ]
    }
   ],
   "source": [
    "if __name__ == '__main__':\n",
    "\n",
    "    mel_basis = mel(sr=16000, n_fft=1024, fmin=90, fmax=7600, n_mels=80).T\n",
    "    min_level = np.exp(-100 / 20 * np.log(10))\n",
    "    b, a = butter_highpass(30, 16000, order=5)\n",
    "\n",
    "    # audio file directory\n",
    "    rootDir = './chinesewavs'\n",
    "    # spectrogram directory\n",
    "    targetDir = './chinesespmel'\n",
    "\n",
    "\n",
    "    dirName, subdirList, _ = next(os.walk(rootDir))\n",
    "    print('Found directory: %s' % dirName)\n",
    "\n",
    "    for subdir in sorted(subdirList):\n",
    "        print(subdir)\n",
    "        if not os.path.exists(os.path.join(targetDir, subdir)):\n",
    "            os.makedirs(os.path.join(targetDir, subdir))\n",
    "        _,_, fileList = next(os.walk(os.path.join(dirName,subdir)))\n",
    "        prng = RandomState(int(subdir[1:]))\n",
    "        for fileName in sorted(fileList):\n",
    "            mel_path = os.path.join(targetDir, subdir, fileName[:-4])\n",
    "            if os.path.exists(mel_path+'.npy'):\n",
    "                continue        \n",
    "            # Read audio file\n",
    "            x, fs = sf.read(os.path.join(dirName,subdir,fileName))\n",
    "            # Remove drifting noise\n",
    "            y = signal.filtfilt(b, a, x)\n",
    "            # Add a little random noise for model robustness\n",
    "            wav = y * 0.96 + (prng.rand(y.shape[0])-0.5)*1e-06\n",
    "            # Compute spect\n",
    "            D = pySTFT(wav).T\n",
    "            # Convert to mel and normalize\n",
    "            D_mel = np.dot(D, mel_basis)\n",
    "            D_db = 20 * np.log10(np.maximum(min_level, D_mel)) - 16\n",
    "            S = np.clip((D_db + 100) / 100, 0, 1)\n",
    "            # save spect\n",
    "            np.save(mel_path,S.astype(np.float32), allow_pickle=False)"
   ]
  },
  {
   "cell_type": "code",
   "execution_count": null,
   "metadata": {},
   "outputs": [],
   "source": []
  }
 ],
 "metadata": {
  "kernelspec": {
   "display_name": "Dino_game",
   "language": "python",
   "name": "python3"
  },
  "language_info": {
   "codemirror_mode": {
    "name": "ipython",
    "version": 3
   },
   "file_extension": ".py",
   "mimetype": "text/x-python",
   "name": "python",
   "nbconvert_exporter": "python",
   "pygments_lexer": "ipython3",
   "version": "3.10.9"
  }
 },
 "nbformat": 4,
 "nbformat_minor": 2
}
